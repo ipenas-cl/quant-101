{
  "nbformat": 4,
  "nbformat_minor": 0,
  "metadata": {
    "colab": {
      "name": "quant-101.ipynb",
      "provenance": [],
      "authorship_tag": "ABX9TyOUeAznn0aMNZfWFerTQ6CN",
      "include_colab_link": true
    },
    "kernelspec": {
      "name": "python3",
      "display_name": "Python 3"
    },
    "language_info": {
      "name": "python"
    }
  },
  "cells": [
    {
      "cell_type": "markdown",
      "metadata": {
        "id": "view-in-github",
        "colab_type": "text"
      },
      "source": [
        "<a href=\"https://colab.research.google.com/github/proyectonst/quant-101/blob/main/quant_101.ipynb\" target=\"_parent\"><img src=\"https://colab.research.google.com/assets/colab-badge.svg\" alt=\"Open In Colab\"/></a>"
      ]
    },
    {
      "cell_type": "code",
      "metadata": {
        "colab": {
          "base_uri": "https://localhost:8080/"
        },
        "id": "1-uKWjl_f2y_",
        "outputId": "73722bfe-eba7-4959-b500-a76301d900f9"
      },
      "source": [
        "# loading the class data from the package pandas_datareader\n",
        "from pandas_datareader import data\n",
        "# First day\n",
        "start_date = '2014-01-01'\n",
        "# Last day\n",
        "end_date = '2018-01-01'\n",
        "# Call the function DataReader from the class data\n",
        "goog_data = data.DataReader('GOOG', 'yahoo', start_date, end_date)\n",
        "print(goog_data)"
      ],
      "execution_count": 2,
      "outputs": [
        {
          "output_type": "stream",
          "text": [
            "                   High          Low  ...     Volume    Adj Close\n",
            "Date                                  ...                        \n",
            "2014-01-02   556.788025   552.060730  ...  3656454.0   554.481689\n",
            "2014-01-03   556.379578   550.401978  ...  3345894.0   550.436829\n",
            "2014-01-06   557.340942   551.154114  ...  3551864.0   556.573853\n",
            "2014-01-07   567.717041   558.486633  ...  5124336.0   567.303589\n",
            "2014-01-08   571.517822   564.528992  ...  4501811.0   568.484192\n",
            "...                 ...          ...  ...        ...          ...\n",
            "2017-12-22  1064.199951  1059.439941  ...   755100.0  1060.119995\n",
            "2017-12-26  1060.119995  1050.199951  ...   760600.0  1056.739990\n",
            "2017-12-27  1058.369995  1048.050049  ...  1271900.0  1049.369995\n",
            "2017-12-28  1054.750000  1044.770020  ...   837100.0  1048.140015\n",
            "2017-12-29  1049.699951  1044.900024  ...   887500.0  1046.400024\n",
            "\n",
            "[1007 rows x 6 columns]\n"
          ],
          "name": "stdout"
        }
      ]
    }
  ]
}